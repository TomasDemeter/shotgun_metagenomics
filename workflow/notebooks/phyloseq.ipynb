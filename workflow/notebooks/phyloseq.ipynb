{
 "cells": [
  {
   "cell_type": "code",
   "execution_count": 1,
   "metadata": {
    "vscode": {
     "languageId": "r"
    }
   },
   "outputs": [
    {
     "name": "stderr",
     "output_type": "stream",
     "text": [
      "Loading required package: ggplot2\n",
      "\n",
      "\n",
      "microbiome R package (microbiome.github.com)\n",
      "    \n",
      "\n",
      "\n",
      " Copyright (C) 2011-2022 Leo Lahti, \n",
      "    Sudarshan Shetty et al. <microbiome.github.io>\n",
      "\n",
      "\n",
      "\n",
      "Attaching package: ‘microbiome’\n",
      "\n",
      "\n",
      "The following object is masked from ‘package:ggplot2’:\n",
      "\n",
      "    alpha\n",
      "\n",
      "\n",
      "The following object is masked from ‘package:base’:\n",
      "\n",
      "    transform\n",
      "\n",
      "\n",
      "── \u001b[1mAttaching core tidyverse packages\u001b[22m ──────────────────────── tidyverse 2.0.0 ──\n",
      "\u001b[32m✔\u001b[39m \u001b[34mdplyr    \u001b[39m 1.1.4     \u001b[32m✔\u001b[39m \u001b[34mreadr    \u001b[39m 2.1.5\n",
      "\u001b[32m✔\u001b[39m \u001b[34mforcats  \u001b[39m 1.0.0     \u001b[32m✔\u001b[39m \u001b[34mstringr  \u001b[39m 1.5.1\n",
      "\u001b[32m✔\u001b[39m \u001b[34mlubridate\u001b[39m 1.9.3     \u001b[32m✔\u001b[39m \u001b[34mtibble   \u001b[39m 3.2.1\n",
      "\u001b[32m✔\u001b[39m \u001b[34mpurrr    \u001b[39m 1.0.2     \u001b[32m✔\u001b[39m \u001b[34mtidyr    \u001b[39m 1.3.1\n",
      "── \u001b[1mConflicts\u001b[22m ────────────────────────────────────────── tidyverse_conflicts() ──\n",
      "\u001b[31m✖\u001b[39m \u001b[34mmicrobiome\u001b[39m::\u001b[32malpha()\u001b[39m masks \u001b[34mggplot2\u001b[39m::alpha()\n",
      "\u001b[31m✖\u001b[39m \u001b[34mdplyr\u001b[39m::\u001b[32mfilter()\u001b[39m     masks \u001b[34mstats\u001b[39m::filter()\n",
      "\u001b[31m✖\u001b[39m \u001b[34mdplyr\u001b[39m::\u001b[32mlag()\u001b[39m        masks \u001b[34mstats\u001b[39m::lag()\n",
      "\u001b[36mℹ\u001b[39m Use the conflicted package (\u001b[3m\u001b[34m<http://conflicted.r-lib.org/>\u001b[39m\u001b[23m) to force all conflicts to become errors\n",
      "\n",
      "Attaching package: ‘gridExtra’\n",
      "\n",
      "\n",
      "The following object is masked from ‘package:dplyr’:\n",
      "\n",
      "    combine\n",
      "\n",
      "\n",
      "Loading required package: permute\n",
      "\n",
      "Loading required package: lattice\n",
      "\n",
      "This is vegan 2.6-6.1\n",
      "\n",
      "\n",
      "Attaching package: ‘vegan’\n",
      "\n",
      "\n",
      "The following object is masked from ‘package:microbiome’:\n",
      "\n",
      "    diversity\n",
      "\n",
      "\n"
     ]
    }
   ],
   "source": [
    "library(phyloseq)\n",
    "library(microbiome)\n",
    "library(tidyverse)\n",
    "library(grid)\n",
    "library(gridExtra)\n",
    "library(vegan)\n",
    "library(ranacapa)"
   ]
  },
  {
   "cell_type": "code",
   "execution_count": 2,
   "metadata": {
    "vscode": {
     "languageId": "r"
    }
   },
   "outputs": [],
   "source": [
    "metadata <- read.csv(\"../../inputs/raw_reads/metadata.csv\", header = TRUE, row.names = 1)"
   ]
  },
  {
   "cell_type": "code",
   "execution_count": 3,
   "metadata": {
    "vscode": {
     "languageId": "r"
    }
   },
   "outputs": [],
   "source": [
    "bowtie_metaphlan <-read.csv(\"../../results/Kraken_Bracken_Metaphlan_output/Metaphlan4_Bowtie_report.csv\", header = TRUE)\n",
    "bowtie_kraken <-read.csv(\"../../results/Kraken_Bracken_Metaphlan_output/Kraken2_Bowtie_report.csv\", header = TRUE)\n",
    "bbmap_metaphlan <-read.csv(\"../../results/Kraken_Bracken_Metaphlan_output/Metaphlan4_BBmap_report.csv\", header = TRUE)\n",
    "bbmap_kraken <-read.csv(\"../../results/Kraken_Bracken_Metaphlan_output/Kraken2_BBmap_report.csv\", header = TRUE)\n",
    "bbmap_bracken <-read.csv(\"../../results/Kraken_Bracken_Metaphlan_output/Bracken_BBmap_report.csv\", header = TRUE)\n",
    "bowtie_bracken <-read.csv(\"../../results/Kraken_Bracken_Metaphlan_output/Bracken_Bowtie_report.csv\", header = TRUE)"
   ]
  },
  {
   "cell_type": "code",
   "execution_count": 4,
   "metadata": {
    "vscode": {
     "languageId": "r"
    }
   },
   "outputs": [],
   "source": [
    "# removes clades with less than 50 reads\n",
    "\n",
    "    bowtie_kraken <- bowtie_kraken %>%\n",
    "        filter(reads_from_clade > 50)\n",
    "\n",
    "    bbmap_kraken <- bbmap_kraken %>%\n",
    "        filter(reads_from_clade > 50)\n",
    "\n",
    "    bowtie_bracken <- bowtie_bracken %>%\n",
    "        filter(reads_from_clade > 50)\n",
    "\n",
    "    bbmap_bracken <- bbmap_bracken %>%\n",
    "        filter(reads_from_clade > 50)"
   ]
  },
  {
   "cell_type": "markdown",
   "metadata": {},
   "source": [
    "# Functions"
   ]
  },
  {
   "cell_type": "code",
   "execution_count": 5,
   "metadata": {
    "vscode": {
     "languageId": "r"
    }
   },
   "outputs": [],
   "source": [
    "fix_sample_names <-  function(report) {\n",
    "    report <- report %>%\n",
    "      mutate(sample = sub(\"^[0-9]+_\", \"\", sample))    \n",
    "}"
   ]
  },
  {
   "cell_type": "code",
   "execution_count": 6,
   "metadata": {
    "vscode": {
     "languageId": "r"
    }
   },
   "outputs": [],
   "source": [
    "metadata_preparation <- function(metadata, mapper, classifier){\n",
    "    metadata <- metadata %>%\n",
    "        rename(sample_name = colnames(metadata)) %>%\n",
    "        mutate(mapper = mapper, classifier = classifier) %>%\n",
    "        mutate(mapper_classifier = paste0(mapper, \"_\", classifier)) %>%\n",
    "        sample_data()\n",
    "\n",
    "    return(metadata)\n",
    "}"
   ]
  },
  {
   "cell_type": "code",
   "execution_count": 7,
   "metadata": {
    "vscode": {
     "languageId": "r"
    }
   },
   "outputs": [],
   "source": [
    "create_phyloseq <- function(counts, metadata) {\n",
    "    prepare_counts <- function(counts) {\n",
    "    counts <- counts %>%\n",
    "        select(-relative_abundance) %>%\n",
    "        filter(domain == \"Bacteria\") %>%\n",
    "        spread(key = sample, value = reads_from_clade, fill = 0) %>%\n",
    "        mutate(rowname = paste0(\"otu\", row_number())) %>%\n",
    "        column_to_rownames(\"rowname\")\n",
    "\n",
    "    return(counts)\n",
    "\n",
    "    }\n",
    "\n",
    "    prepare_taxa <- function(counts){\n",
    "    taxa <- counts %>%\n",
    "        select(domain, phylum, class, order, family, genus, species) %>%\n",
    "        mutate(across(everything(), ~na_if(., \"\"))) %>% \n",
    "        as.matrix() %>%\n",
    "        tax_table()\n",
    "    \n",
    "    return(taxa)\n",
    "    }\n",
    "\n",
    "    prepare_otu <- function(counts) {\n",
    "        otu <- counts %>%\n",
    "            select(which(colnames(.) %in% rownames(metadata))) %>%\n",
    "            as.matrix() %>%\n",
    "            otu_table(taxa_are_rows = TRUE)\n",
    "\n",
    "        return(otu)\n",
    "    }\n",
    "\n",
    "    counts <- prepare_counts(counts)\n",
    "    otu <- prepare_otu(counts)\n",
    "    taxa <- prepare_taxa(counts)\n",
    "\n",
    "    phyloseq_object <- phyloseq(otu, taxa, metadata)\n",
    "\n",
    "    return(phyloseq_object)\n",
    "}\n"
   ]
  },
  {
   "cell_type": "code",
   "execution_count": 8,
   "metadata": {
    "vscode": {
     "languageId": "r"
    }
   },
   "outputs": [],
   "source": [
    "abundance_barplot <- function(phyloseq_object, clade, title) {\n",
    "    # Aggregate data at the species level\n",
    "    species_phyloseq <- tax_glom(phyloseq_object, clade)\n",
    "    \n",
    "    # Prune samples where the sum of counts at the species level is 0\n",
    "    species_phyloseq <- prune_samples(sample_sums(species_phyloseq) > 0, species_phyloseq)\n",
    "    \n",
    "    # Create the plot using the original phyloseq_object but only with the samples remaining after pruning\n",
    "    # This ensures that the plot reflects the original data, minus the pruned samples\n",
    "    pruned_samples <- sample_names(species_phyloseq)\n",
    "    pruned_phyloseq_object <- prune_samples(pruned_samples, phyloseq_object)\n",
    "    \n",
    "    plot <- plot_bar(pruned_phyloseq_object, fill = clade) + \n",
    "        theme_classic(base_size = 14) + # Increase the base text size\n",
    "        theme(axis.text.x = element_text(angle = 90, hjust = 1, size = 25), # Increase x-axis text size\n",
    "              axis.title.x = element_text(size = 20), # Increase x-axis title size\n",
    "              axis.title.y = element_text(size = 20),\n",
    "              axis.text.y = element_text(size = 18),\n",
    "              plot.title = element_text(size = 40, hjust = 0.5)) +\n",
    "        labs(x = \"\", title = title)\n",
    "    \n",
    "    return(plot)\n",
    "}"
   ]
  },
  {
   "cell_type": "code",
   "execution_count": 9,
   "metadata": {
    "vscode": {
     "languageId": "r"
    }
   },
   "outputs": [],
   "source": [
    "count_species_plot <- function(phyloseq_object, clade, title) {\n",
    "\n",
    "    species_phyloseq <- tax_glom(phyloseq_object, clade)\n",
    "    \n",
    "    # Prune samples where the sum of counts at the species level is 0\n",
    "    species_phyloseq <- prune_samples(sample_sums(species_phyloseq) > 0, species_phyloseq)\n",
    "\n",
    "    df <- as.data.frame(otu_table(species_phyloseq))\n",
    "\n",
    "    otu_df_filtered <- df %>%\n",
    "        summarise_all(~sum(. != 0))\n",
    "\n",
    "    # Convert the data to long format for plotting\n",
    "    long_data <- tidyr::gather(otu_df_filtered, key = \"Column\", value = \"NonZeroCount\") \n",
    "\n",
    "    # Create the bar plot\n",
    "    plot <- ggplot(long_data, aes(x = Column, y = NonZeroCount)) +\n",
    "        geom_bar(fill = \"#0d8ba4\", color = \"black\", stat = \"identity\") +\n",
    "        theme_classic(base_size = 14) + # Increase the base text size\n",
    "        theme(axis.text.x = element_text(angle = 90, vjust = 0.5, hjust = 1, size = 12), # Increase x-axis text size\n",
    "              axis.text.y = element_text(size = 12), # Increase y-axis text size\n",
    "              axis.title.x = element_text(size = 14), # Increase x-axis title size\n",
    "              axis.title.y = element_text(size = 14), # Increase y-axis title size\n",
    "              plot.title = element_text(hjust = 0.5, size = 16), # Increase plot title size\n",
    "              #legend.position = \"none\",\n",
    "              panel.grid.major.y = element_line(color = \"grey\", size = 0.5)) +\n",
    "        labs(x = \"\", y = \"Number of Unique Species\", title = title) +\n",
    "        scale_y_continuous(limits = c(0, 18), breaks = seq(0, 18, by = 1))\n",
    "    \n",
    "    return(plot)\n",
    "}"
   ]
  },
  {
   "cell_type": "code",
   "execution_count": 10,
   "metadata": {
    "vscode": {
     "languageId": "r"
    }
   },
   "outputs": [],
   "source": [
    "find_overlap <- function(phyloseq1, phyloseq2, clade) {\n",
    "\n",
    "    # Convert phyloseq objects to dataframes\n",
    "    df1 <- psmelt(phyloseq1)\n",
    "    df2 <- psmelt(phyloseq2)\n",
    "    \n",
    "    # filter dataframes to keep only rows with non-zero abundance\n",
    "    df1 <- df1 %>%\n",
    "        filter(Abundance != 0)\n",
    "\n",
    "    df2 <- df2 %>%\n",
    "        filter(Abundance != 0)\n",
    "    \n",
    "    # Find the overlap between the two dataframes\n",
    "    merged <- inner_join(df1, df2, by = c(\"Sample\", clade))\n",
    "    \n",
    "    merged <- merged %>%\n",
    "        select(Sample, clade) %>%\n",
    "        distinct() %>%\n",
    "        group_by(Sample) %>%\n",
    "        summarise(uniques = n()) %>%\n",
    "        as.data.frame()\n",
    "\n",
    "    return(merged)\n",
    "\n",
    "}"
   ]
  },
  {
   "cell_type": "code",
   "execution_count": 11,
   "metadata": {
    "vscode": {
     "languageId": "r"
    }
   },
   "outputs": [],
   "source": [
    "overlap_species_plot <- function(df, title) {\n",
    "    # Create the bar plot\n",
    "    plot <- ggplot(df, aes(x = Sample, y = uniques)) +\n",
    "    geom_bar(fill = \"#0d8ba4\", color = \"black\", stat = \"identity\") +\n",
    "    theme_classic() +\n",
    "    theme(axis.text.x = element_text(angle = 90, vjust = 0.5, hjust=1, size=25), # X-axis labels\n",
    "          axis.text.y = element_text(size=25), # Y-axis labels\n",
    "          axis.title.x = element_text(size=25), # X-axis title\n",
    "          axis.title.y = element_text(size=25), # Y-axis title\n",
    "          plot.title = element_text(hjust=0.5, size=25), # Plot title\n",
    "          #legend.position = \"none\",\n",
    "          panel.grid.major.y = element_line(color=\"grey\", size=0.5)) +\n",
    "    labs(x=\"\", y=\"Number of Unique Species\", title=\"Unique Species per Sample\") +\n",
    "    scale_y_continuous(limits=c(0, 12), breaks=seq(0, 12, by=1))\n",
    "\n",
    "    return(plot)\n",
    "}"
   ]
  },
  {
   "cell_type": "code",
   "execution_count": 12,
   "metadata": {
    "vscode": {
     "languageId": "r"
    }
   },
   "outputs": [],
   "source": [
    "rarefication_plot <- function(phyloseq){\n",
    "\n",
    "  otu_table <- vegan_otu(phyloseq)\n",
    "  rarecurve <- rarecurve(otu_table, step=50,  cex=0.5, tidy = TRUE)\n",
    "\n",
    "  plot <- ggplot(rarecurve, aes(x = Sample, y = Species, color = Site)) +\n",
    "    geom_line(linewidth = 3) + # Increase line thickness\n",
    "    theme_classic() + # Increase base text size for all text elements\n",
    "    labs(x = \"Sample\", y = \"Species\", title = \"Species by Sample Size across Samples\", color = \"Sample\") +\n",
    "    scale_x_log10(name = \"Sample Size\", limits = c(NA, 700000)) + \n",
    "    scale_y_continuous(name = \"Species Count\") + # Continuous y-axis\n",
    "    theme(\n",
    "      plot.title = element_text(size = 25), # Increase title text size\n",
    "      axis.title = element_text(size = 25), # Increase axis labels text size\n",
    "      axis.text = element_text(size = 20), # Increase axis tick text size\n",
    "      legend.title = element_text(size = 20), # Increase legend title text size\n",
    "      legend.text = element_text(size = 20),\n",
    "      #legend.position = \"none\", # Increase legend text size\n",
    "      panel.grid.major.y = element_line(color=\"grey\", size=0.5),\n",
    "      panel.grid.minor.y = element_line(color=\"grey\", size=0.25)\n",
    "\n",
    "    )\n",
    "  return(plot)\n",
    "}"
   ]
  },
  {
   "cell_type": "markdown",
   "metadata": {},
   "source": [
    "# Data"
   ]
  },
  {
   "cell_type": "code",
   "execution_count": 13,
   "metadata": {
    "vscode": {
     "languageId": "r"
    }
   },
   "outputs": [],
   "source": [
    "rownames(metadata) <- sub(\"^[0-9]+_\", \"\", rownames(metadata))"
   ]
  },
  {
   "cell_type": "code",
   "execution_count": 14,
   "metadata": {
    "vscode": {
     "languageId": "r"
    }
   },
   "outputs": [],
   "source": [
    "bowtie_metaphlan <- fix_sample_names(bowtie_metaphlan)\n",
    "bowtie_kraken <- fix_sample_names(bowtie_kraken)\n",
    "bbmap_metaphlan <- fix_sample_names(bbmap_metaphlan)\n",
    "bbmap_kraken <- fix_sample_names(bbmap_kraken)\n",
    "bbmap_bracken <- fix_sample_names(bbmap_bracken)\n",
    "bowtie_bracken <- fix_sample_names(bowtie_bracken)"
   ]
  },
  {
   "cell_type": "code",
   "execution_count": 15,
   "metadata": {
    "vscode": {
     "languageId": "r"
    }
   },
   "outputs": [],
   "source": [
    "# prepare data for phyloseq creation\n",
    "bowtie_metaphlan_metadata <- metadata_preparation(metadata, \"bowtie2\", \"metaphlan4\")\n",
    "bowtie_kraken_metadata <- metadata_preparation(metadata, \"bowtie2\", \"kraken2\")\n",
    "bowtie_bracken_metadata <- metadata_preparation(metadata, \"bowtie2\", \"bracken\")\n",
    "\n",
    "bbmap_metaphlan_metadata <- metadata_preparation(metadata, \"bbmap2\", \"metaphlan4\")\n",
    "bbmap_kraken_metadata <- metadata_preparation(metadata, \"bbmap2\", \"kraken2\")\n",
    "bbmap_bracken_metadata <- metadata_preparation(metadata, \"bbmap2\", \"bracken\")"
   ]
  },
  {
   "cell_type": "code",
   "execution_count": 16,
   "metadata": {
    "vscode": {
     "languageId": "r"
    }
   },
   "outputs": [],
   "source": [
    "# create phyloseq file for each analysis\n",
    "bowtie_metaphlan_phyloseq <- create_phyloseq(bowtie_metaphlan, bowtie_metaphlan_metadata)\n",
    "bowtie_kraken_phyloseq <- create_phyloseq(bowtie_kraken, bowtie_kraken_metadata)\n",
    "bowtie_bracken_phyloseq <- create_phyloseq(bowtie_bracken, bowtie_bracken_metadata)\n",
    "\n",
    "bbmap_metaphlan_phyloseq <- create_phyloseq(bbmap_metaphlan, bbmap_metaphlan_metadata)\n",
    "bbmap_kraken_phyloseq <- create_phyloseq(bbmap_kraken, bbmap_kraken_metadata)\n",
    "bbmap_bracken_phyloseq <- create_phyloseq(bbmap_bracken, bbmap_bracken_metadata)\n"
   ]
  },
  {
   "cell_type": "code",
   "execution_count": 17,
   "metadata": {
    "vscode": {
     "languageId": "r"
    }
   },
   "outputs": [],
   "source": [
    "# create phyloseq files with relative abundance for all detected OTUs\n",
    "bowtie_metaphlan_phyloseq_relative <- transform_sample_counts(bowtie_metaphlan_phyloseq, function(x) x / sum(x))\n",
    "bowtie_kraken_phyloseq_relative <- transform_sample_counts(bowtie_kraken_phyloseq, function(x) x / sum(x))\n",
    "bowtie_bracken_phyloseq_relative <- transform_sample_counts(bowtie_bracken_phyloseq, function(x) x / sum(x))\n",
    "\n",
    "bbmap_metaphlan_phyloseq_relative <- transform_sample_counts(bbmap_metaphlan_phyloseq, function(x) x / sum(x))\n",
    "bbmap_kraken_phyloseq_relative <- transform_sample_counts(bbmap_kraken_phyloseq, function(x) x / sum(x))\n",
    "bbmap_bracken_phyloseq_relative <- transform_sample_counts(bbmap_bracken_phyloseq, function(x) x / sum(x))"
   ]
  },
  {
   "cell_type": "code",
   "execution_count": 18,
   "metadata": {
    "vscode": {
     "languageId": "r"
    }
   },
   "outputs": [],
   "source": [
    "# remove counts that did not identify specific specie\n",
    "bowtie_metaphlan_phyloseq_species <- tax_glom(bowtie_metaphlan_phyloseq, taxrank = \"species\")\n",
    "bowtie_kraken_phyloseq_species <- tax_glom(bowtie_kraken_phyloseq, taxrank = \"species\")\n",
    "bowtie_bracken_phyloseq_species <- tax_glom(bowtie_bracken_phyloseq, taxrank = \"species\")\n",
    "\n",
    "bbmap_metaphlan_phyloseq_species <- tax_glom(bbmap_metaphlan_phyloseq, taxrank = \"species\")\n",
    "bbmap_kraken_phyloseq_species <- tax_glom(bbmap_kraken_phyloseq, taxrank = \"species\")\n",
    "bbmap_bracken_phyloseq_species <- tax_glom(bbmap_bracken_phyloseq, taxrank = \"species\")"
   ]
  },
  {
   "cell_type": "code",
   "execution_count": 19,
   "metadata": {
    "vscode": {
     "languageId": "r"
    }
   },
   "outputs": [],
   "source": [
    "# create phyloseq files with relative abundance for OTUs at species level\n",
    "bowtie_metaphlan_phyloseq_relative_species <- transform_sample_counts(bowtie_metaphlan_phyloseq_species, function(x) x / sum(x))\n",
    "bowtie_kraken_phyloseq_relative_species <- transform_sample_counts(bowtie_kraken_phyloseq_species, function(x) x / sum(x))\n",
    "bowtie_bracken_phyloseq_relative_species <- transform_sample_counts(bowtie_bracken_phyloseq_species, function(x) x / sum(x))\n",
    "\n",
    "bbmap_metaphlan_phyloseq_relative_species <- transform_sample_counts(bbmap_metaphlan_phyloseq_species, function(x) x / sum(x))\n",
    "bbmap_kraken_phyloseq_relative_species <- transform_sample_counts(bbmap_kraken_phyloseq_species, function(x) x / sum(x))\n",
    "bbmap_bracken_phyloseq_relative_species <- transform_sample_counts(bbmap_bracken_phyloseq_species, function(x) x / sum(x))"
   ]
  },
  {
   "cell_type": "markdown",
   "metadata": {},
   "source": [
    "# Plotting"
   ]
  },
  {
   "cell_type": "code",
   "execution_count": 20,
   "metadata": {
    "vscode": {
     "languageId": "r"
    }
   },
   "outputs": [],
   "source": [
    "options(repr.plot.width=25, repr.plot.height=25)"
   ]
  },
  {
   "cell_type": "markdown",
   "metadata": {},
   "source": [
    "## Raw counts of all detected species"
   ]
  },
  {
   "cell_type": "code",
   "execution_count": 21,
   "metadata": {
    "vscode": {
     "languageId": "r"
    }
   },
   "outputs": [],
   "source": [
    "bowtie_metaphlan_raw_plot <- abundance_barplot(bowtie_metaphlan_phyloseq, \"species\", \"Bowtie, Metaphlan4\")\n",
    "bowtie_kraken_raw_plot <- abundance_barplot(bowtie_kraken_phyloseq, \"species\", \"Bowtie, Kraken2\")\n",
    "bowtie_bracken_raw_plot <- abundance_barplot(bowtie_bracken_phyloseq, \"species\", \"Bowtie, Bracken\")\n",
    "\n",
    "bbmap_metaphlan_raw_plot <- abundance_barplot(bbmap_metaphlan_phyloseq, \"species\", \"BBmap2, Metaphlan4\")\n",
    "bbmap_kraken_raw_plot <- abundance_barplot(bbmap_kraken_phyloseq, \"species\", \"BBmap2, Kraken2\")\n",
    "bbmap_bracken_raw_plot <- abundance_barplot(bbmap_bracken_phyloseq, \"species\", \"BBmap2, Bracken\")"
   ]
  },
  {
   "cell_type": "code",
   "execution_count": 22,
   "metadata": {
    "vscode": {
     "languageId": "r"
    }
   },
   "outputs": [],
   "source": [
    "raw_abundance_plots <- arrangeGrob(bowtie_metaphlan_raw_plot,\n",
    "                bowtie_kraken_raw_plot,\n",
    "                bowtie_bracken_raw_plot,\n",
    "                bbmap_metaphlan_raw_plot,\n",
    "                bbmap_kraken_raw_plot,\n",
    "                bbmap_bracken_raw_plot,\n",
    "                ncol = 3)"
   ]
  },
  {
   "cell_type": "markdown",
   "metadata": {},
   "source": [
    "## Relative abundance of all detected species"
   ]
  },
  {
   "cell_type": "code",
   "execution_count": 23,
   "metadata": {
    "vscode": {
     "languageId": "r"
    }
   },
   "outputs": [],
   "source": [
    "bowtie_metaphlan_relative_plot <- abundance_barplot(bowtie_metaphlan_phyloseq_relative, \"species\", \"Bowtie, Metaphlan4\")\n",
    "bowtie_kraken_relative_plot <- abundance_barplot(bowtie_kraken_phyloseq_relative, \"species\", \"Bowtie, Kraken2\")\n",
    "bowtie_bracken_relative_plot <- abundance_barplot(bowtie_bracken_phyloseq_relative, \"species\", \"Bowtie, Bracken\")\n",
    "\n",
    "bbmap_metaphlan_relative_plot <- abundance_barplot(bbmap_metaphlan_phyloseq_relative, \"species\", \"BBmap2, Metaphlan4\")\n",
    "bbmap_kraken_relative_plot <- abundance_barplot(bbmap_kraken_phyloseq_relative, \"species\", \"BBmap2, Kraken2\")\n",
    "bbmap_bracken_relative_plot <- abundance_barplot(bbmap_bracken_phyloseq_relative, \"species\", \"BBmap2, Bracken\")"
   ]
  },
  {
   "cell_type": "code",
   "execution_count": 24,
   "metadata": {
    "vscode": {
     "languageId": "r"
    }
   },
   "outputs": [],
   "source": [
    "relative_abundance_plots <- arrangeGrob(bowtie_metaphlan_relative_plot,\n",
    "                bowtie_kraken_relative_plot,\n",
    "                bowtie_bracken_relative_plot,\n",
    "                bbmap_metaphlan_relative_plot,\n",
    "                bbmap_kraken_relative_plot,\n",
    "                bbmap_bracken_relative_plot,\n",
    "                ncol = 3)"
   ]
  },
  {
   "cell_type": "markdown",
   "metadata": {},
   "source": [
    "## Raw counts of only identified species"
   ]
  },
  {
   "cell_type": "code",
   "execution_count": 25,
   "metadata": {
    "vscode": {
     "languageId": "r"
    }
   },
   "outputs": [],
   "source": [
    "bowtie_metaphlan_species_raw_plot <- abundance_barplot(bowtie_metaphlan_phyloseq_species, \"species\", \"Bowtie, Metaphlan4\")\n",
    "bowtie_kraken_species_raw_plot <- abundance_barplot(bowtie_kraken_phyloseq_species, \"species\", \"Bowtie, Kraken2\")\n",
    "bowtie_bracken_species_raw_plot <- abundance_barplot(bowtie_bracken_phyloseq_species, \"species\", \"Bowtie, Bracken\")\n",
    "\n",
    "bbmap_metaphlan_species_raw_plot <- abundance_barplot(bbmap_metaphlan_phyloseq_species, \"species\", \"BBmap2, Metaphlan4\")\n",
    "bbmap_kraken_species_raw_plot <- abundance_barplot(bbmap_kraken_phyloseq_species, \"species\", \"BBmap2, Kraken2\")\n",
    "bbmap_bracken_species_raw_plot <- abundance_barplot(bbmap_bracken_phyloseq_species, \"species\", \"BBmap2, Bracken\")"
   ]
  },
  {
   "cell_type": "code",
   "execution_count": 26,
   "metadata": {
    "vscode": {
     "languageId": "r"
    }
   },
   "outputs": [],
   "source": [
    "raw_species_abundance_plots <- arrangeGrob(bowtie_metaphlan_species_raw_plot,\n",
    "                bowtie_kraken_species_raw_plot,\n",
    "                bowtie_bracken_species_raw_plot,\n",
    "                bbmap_metaphlan_species_raw_plot,\n",
    "                bbmap_kraken_species_raw_plot,\n",
    "                bbmap_bracken_species_raw_plot,\n",
    "                ncol = 3)"
   ]
  },
  {
   "cell_type": "markdown",
   "metadata": {},
   "source": [
    "## Relative abundance of only identified species"
   ]
  },
  {
   "cell_type": "code",
   "execution_count": 27,
   "metadata": {
    "vscode": {
     "languageId": "r"
    }
   },
   "outputs": [],
   "source": [
    "bowtie_metaphlan_species_relative_plot <- abundance_barplot(bowtie_metaphlan_phyloseq_relative_species, \"species\", \"Bowtie, Metaphlan4\")\n",
    "bowtie_kraken_species_relative_plot <- abundance_barplot(bowtie_kraken_phyloseq_relative_species, \"species\", \"Bowtie, Kraken2\")\n",
    "bowtie_bracken_species_relative_plot <- abundance_barplot(bowtie_bracken_phyloseq_relative_species, \"species\", \"Bowtie, Bracken\")\n",
    "\n",
    "bbmap_metaphlan_species_relative_plot <- abundance_barplot(bbmap_metaphlan_phyloseq_relative_species, \"species\", \"BBmap2, Metaphlan4\")\n",
    "bbmap_kraken_species_relative_plot <- abundance_barplot(bbmap_kraken_phyloseq_relative_species, \"species\", \"BBmap2, Kraken2\")\n",
    "bbmap_bracken_species_relative_plot <- abundance_barplot(bbmap_bracken_phyloseq_relative_species, \"species\", \"BBmap2, Bracken\")"
   ]
  },
  {
   "cell_type": "code",
   "execution_count": 28,
   "metadata": {
    "vscode": {
     "languageId": "r"
    }
   },
   "outputs": [],
   "source": [
    "relative_species_abundance_plots <- arrangeGrob(bowtie_metaphlan_species_relative_plot,\n",
    "                bowtie_kraken_species_relative_plot,\n",
    "                bowtie_bracken_species_relative_plot,\n",
    "                bbmap_metaphlan_species_relative_plot,\n",
    "                bbmap_kraken_species_relative_plot,\n",
    "                bbmap_bracken_species_relative_plot,\n",
    "                ncol = 3)"
   ]
  },
  {
   "cell_type": "code",
   "execution_count": 29,
   "metadata": {
    "vscode": {
     "languageId": "r"
    }
   },
   "outputs": [],
   "source": [
    "relative_species_abundance_plots_bowtie <- arrangeGrob(bowtie_metaphlan_species_relative_plot,\n",
    "                bowtie_kraken_species_relative_plot,\n",
    "                bowtie_bracken_species_relative_plot,\n",
    "                ncol = 3)"
   ]
  },
  {
   "cell_type": "code",
   "execution_count": 30,
   "metadata": {
    "vscode": {
     "languageId": "r"
    }
   },
   "outputs": [],
   "source": [
    "ggsave(filename = \"../../results/Phyloseq/Figures/relative_species_abundance_plots_bowtie.png\", plot = relative_species_abundance_plots_bowtie,width = 45, height = 25, dpi = 300)\n"
   ]
  },
  {
   "cell_type": "markdown",
   "metadata": {},
   "source": [
    "## Number of different species per sample"
   ]
  },
  {
   "cell_type": "code",
   "execution_count": 31,
   "metadata": {
    "vscode": {
     "languageId": "r"
    }
   },
   "outputs": [
    {
     "name": "stderr",
     "output_type": "stream",
     "text": [
      "Warning message:\n",
      "“\u001b[1m\u001b[22mThe `size` argument of `element_line()` is deprecated as of ggplot2 3.4.0.\n",
      "\u001b[36mℹ\u001b[39m Please use the `linewidth` argument instead.”\n"
     ]
    }
   ],
   "source": [
    "bowtie_metaphlan_species_counts_plot <- count_species_plot(bowtie_metaphlan_phyloseq_relative_species, \"species\", \"Bowtie, Metaphlan4\")\n",
    "bowtie_kraken_species_counts_plot <- count_species_plot(bowtie_kraken_phyloseq_relative_species, \"species\", \"Bowtie, Kraken2\")\n",
    "bowtie_bracken_species_counts_plot <- count_species_plot(bowtie_bracken_phyloseq_relative_species, \"species\", \"Bowtie, Bracken\")\n",
    "\n",
    "bbmap_metaphlan_species_counts_plot <- count_species_plot(bbmap_metaphlan_phyloseq_relative_species, \"species\", \"BBmap2, Metaphlan4\")\n",
    "bbmap_kraken_species_counts_plot <- count_species_plot(bbmap_kraken_phyloseq_relative_species, \"species\", \"BBmap2, Kraken2\")\n",
    "bbmap_bracken_species_counts_plot <- count_species_plot(bbmap_bracken_phyloseq_relative_species, \"species\", \"BBmap2, Bracken\")"
   ]
  },
  {
   "cell_type": "code",
   "execution_count": 32,
   "metadata": {
    "vscode": {
     "languageId": "r"
    }
   },
   "outputs": [],
   "source": [
    "species_counts_plots <- arrangeGrob(bowtie_metaphlan_species_counts_plot,\n",
    "                bowtie_kraken_species_counts_plot,\n",
    "                bowtie_bracken_species_counts_plot,\n",
    "                bbmap_metaphlan_species_counts_plot,\n",
    "                bbmap_kraken_species_counts_plot,\n",
    "                bbmap_bracken_species_counts_plot,\n",
    "                ncol = 3)"
   ]
  },
  {
   "cell_type": "code",
   "execution_count": 33,
   "metadata": {
    "vscode": {
     "languageId": "r"
    }
   },
   "outputs": [
    {
     "name": "stderr",
     "output_type": "stream",
     "text": [
      "Warning message:\n",
      "“\u001b[1m\u001b[22mUsing an external vector in selections was deprecated in tidyselect 1.1.0.\n",
      "\u001b[36mℹ\u001b[39m Please use `all_of()` or `any_of()` instead.\n",
      "  # Was:\n",
      "  data %>% select(clade)\n",
      "\n",
      "  # Now:\n",
      "  data %>% select(all_of(clade))\n",
      "\n",
      "See <https://tidyselect.r-lib.org/reference/faq-external-vector.html>.”\n"
     ]
    }
   ],
   "source": [
    "bowtie <- find_overlap(bowtie_metaphlan_phyloseq_species, bowtie_bracken_phyloseq_species, \"species\")\n",
    "bowtie_overlap_plot <- overlap_species_plot(bowtie, \"Bowtie, overlap\")"
   ]
  },
  {
   "cell_type": "code",
   "execution_count": 34,
   "metadata": {
    "vscode": {
     "languageId": "r"
    }
   },
   "outputs": [],
   "source": [
    "bbmap <- find_overlap(bbmap_metaphlan_phyloseq_species, bbmap_bracken_phyloseq_species, \"species\")\n",
    "bbmap_overlap_plot <- overlap_species_plot(bbmap, \"BBmap, overlap\")"
   ]
  },
  {
   "cell_type": "code",
   "execution_count": 35,
   "metadata": {
    "vscode": {
     "languageId": "r"
    }
   },
   "outputs": [],
   "source": [
    "species_overlap_plots <- arrangeGrob(bowtie_overlap_plot,\n",
    "                bbmap_overlap_plot,\n",
    "                ncol = 2)"
   ]
  },
  {
   "cell_type": "markdown",
   "metadata": {},
   "source": [
    "## Relative Genus abundance"
   ]
  },
  {
   "cell_type": "code",
   "execution_count": 36,
   "metadata": {
    "vscode": {
     "languageId": "r"
    }
   },
   "outputs": [],
   "source": [
    "# remove counts that did not identify specific specie\n",
    "bowtie_metaphlan_phyloseq_genus <- tax_glom(bowtie_metaphlan_phyloseq, taxrank = \"genus\")\n",
    "bowtie_kraken_phyloseq_genus <- tax_glom(bowtie_kraken_phyloseq, taxrank = \"genus\")\n",
    "bowtie_bracken_phyloseq_genus <- tax_glom(bowtie_bracken_phyloseq, taxrank = \"genus\")\n",
    "\n",
    "bbmap_metaphlan_phyloseq_genus <- tax_glom(bbmap_metaphlan_phyloseq, taxrank = \"genus\")\n",
    "bbmap_kraken_phyloseq_genus <- tax_glom(bbmap_kraken_phyloseq, taxrank = \"genus\")\n",
    "bbmap_bracken_phyloseq_genus <- tax_glom(bbmap_bracken_phyloseq, taxrank = \"genus\")"
   ]
  },
  {
   "cell_type": "code",
   "execution_count": 37,
   "metadata": {
    "vscode": {
     "languageId": "r"
    }
   },
   "outputs": [],
   "source": [
    "# create phyloseq files with relative abundance for OTUs at genus level\n",
    "bowtie_metaphlan_phyloseq_relative_genus <- transform_sample_counts(bowtie_metaphlan_phyloseq_genus, function(x) x / sum(x))\n",
    "bowtie_kraken_phyloseq_relative_genus <- transform_sample_counts(bowtie_kraken_phyloseq_genus, function(x) x / sum(x))\n",
    "bowtie_bracken_phyloseq_relative_genus <- transform_sample_counts(bowtie_bracken_phyloseq_genus, function(x) x / sum(x))\n",
    "\n",
    "bbmap_metaphlan_phyloseq_relative_genus <- transform_sample_counts(bbmap_metaphlan_phyloseq_genus, function(x) x / sum(x))\n",
    "bbmap_kraken_phyloseq_relative_genus <- transform_sample_counts(bbmap_kraken_phyloseq_genus, function(x) x / sum(x))\n",
    "bbmap_bracken_phyloseq_relative_genus <- transform_sample_counts(bbmap_bracken_phyloseq_genus, function(x) x / sum(x))"
   ]
  },
  {
   "cell_type": "code",
   "execution_count": 38,
   "metadata": {
    "vscode": {
     "languageId": "r"
    }
   },
   "outputs": [],
   "source": [
    "bowtie_metaphlan_genus_relative_plot <- abundance_barplot(bowtie_metaphlan_phyloseq_relative_genus, \"genus\", \"Bowtie, Metaphlan4\")\n",
    "bowtie_kraken_genus_relative_plot <- abundance_barplot(bowtie_kraken_phyloseq_relative_genus, \"genus\", \"Bowtie, Kraken2\")\n",
    "bowtie_bracken_genus_relative_plot <- abundance_barplot(bowtie_bracken_phyloseq_relative_genus, \"genus\", \"Bowtie, Bracken\")\n",
    "\n",
    "bbmap_metaphlan_genus_relative_plot <- abundance_barplot(bbmap_metaphlan_phyloseq_relative_genus, \"genus\", \"BBmap2, Metaphlan4\")\n",
    "bbmap_kraken_genus_relative_plot <- abundance_barplot(bbmap_kraken_phyloseq_relative_genus, \"genus\", \"BBmap2, Kraken2\")\n",
    "bbmap_bracken_genus_relative_plot <- abundance_barplot(bbmap_bracken_phyloseq_relative_genus, \"genus\", \"BBmap2, Bracken\")"
   ]
  },
  {
   "cell_type": "code",
   "execution_count": 39,
   "metadata": {
    "vscode": {
     "languageId": "r"
    }
   },
   "outputs": [],
   "source": [
    "relative_genus_abundance_plots <- arrangeGrob(bowtie_metaphlan_genus_relative_plot,\n",
    "                bowtie_kraken_genus_relative_plot,\n",
    "                bowtie_bracken_genus_relative_plot,\n",
    "                bbmap_metaphlan_genus_relative_plot,\n",
    "                bbmap_kraken_genus_relative_plot,\n",
    "                bbmap_bracken_genus_relative_plot,\n",
    "                ncol = 3)"
   ]
  },
  {
   "cell_type": "code",
   "execution_count": null,
   "metadata": {
    "vscode": {
     "languageId": "r"
    }
   },
   "outputs": [],
   "source": []
  },
  {
   "cell_type": "markdown",
   "metadata": {},
   "source": [
    "## Rarefication"
   ]
  },
  {
   "cell_type": "code",
   "execution_count": 40,
   "metadata": {
    "vscode": {
     "languageId": "r"
    }
   },
   "outputs": [
    {
     "name": "stderr",
     "output_type": "stream",
     "text": [
      "Warning message in rarecurve(otu_table, step = 50, cex = 0.5, tidy = TRUE):\n",
      "“most observed count data have counts 1, but smallest count is 36”\n"
     ]
    },
    {
     "name": "stderr",
     "output_type": "stream",
     "text": [
      "Warning message in rarecurve(otu_table, step = 50, cex = 0.5, tidy = TRUE):\n",
      "“most observed count data have counts 1, but smallest count is 52”\n",
      "empty rows removed\n",
      "\n",
      "Warning message in rarecurve(otu_table, step = 50, cex = 0.5, tidy = TRUE):\n",
      "“most observed count data have counts 1, but smallest count is 56”\n",
      "Warning message in rarecurve(otu_table, step = 50, cex = 0.5, tidy = TRUE):\n",
      "“most observed count data have counts 1, but smallest count is 32”\n",
      "Warning message in rarecurve(otu_table, step = 50, cex = 0.5, tidy = TRUE):\n",
      "“most observed count data have counts 1, but smallest count is 52”\n",
      "empty rows removed\n",
      "\n",
      "Warning message in rarecurve(otu_table, step = 50, cex = 0.5, tidy = TRUE):\n",
      "“most observed count data have counts 1, but smallest count is 56”\n"
     ]
    }
   ],
   "source": [
    "bowtie_metaphlan_rarecurve <- rarefication_plot(bowtie_metaphlan_phyloseq_species)\n",
    "bowtie_kraken_rarecurve <- rarefication_plot(bowtie_kraken_phyloseq_species)\n",
    "bowtie_bracken_rarecurve <- rarefication_plot(bowtie_bracken_phyloseq_species)\n",
    "\n",
    "bbmap_metaphlan_rarecurve <- rarefication_plot(bbmap_metaphlan_phyloseq_species)\n",
    "bbmap_kraken_rarecurve <- rarefication_plot(bbmap_kraken_phyloseq_species)\n",
    "bbmap_bracken_rarecurve <- rarefication_plot(bbmap_bracken_phyloseq_species)"
   ]
  },
  {
   "cell_type": "code",
   "execution_count": 41,
   "metadata": {
    "vscode": {
     "languageId": "r"
    }
   },
   "outputs": [
    {
     "name": "stderr",
     "output_type": "stream",
     "text": [
      "Warning message:\n",
      "“\u001b[1m\u001b[22mRemoved 10413 rows containing missing values or values outside the scale range\n",
      "(`geom_line()`).”\n",
      "Warning message:\n",
      "“\u001b[1m\u001b[22mRemoved 9576 rows containing missing values or values outside the scale range\n",
      "(`geom_line()`).”\n"
     ]
    }
   ],
   "source": [
    "rarecurve_plots <- arrangeGrob(bowtie_metaphlan_rarecurve,\n",
    "                bowtie_kraken_rarecurve,\n",
    "                bowtie_bracken_rarecurve,\n",
    "                bbmap_metaphlan_rarecurve,\n",
    "                bbmap_kraken_rarecurve,\n",
    "                bbmap_bracken_rarecurve,\n",
    "                ncol = 3)"
   ]
  },
  {
   "cell_type": "code",
   "execution_count": null,
   "metadata": {
    "vscode": {
     "languageId": "r"
    }
   },
   "outputs": [],
   "source": []
  },
  {
   "cell_type": "markdown",
   "metadata": {},
   "source": [
    "# Plot saving"
   ]
  },
  {
   "cell_type": "code",
   "execution_count": 42,
   "metadata": {
    "vscode": {
     "languageId": "r"
    }
   },
   "outputs": [],
   "source": [
    "# saving pcoa plots as png\n",
    "ggsave(filename = \"../../results/Phyloseq/Figures/raw_abundance_plots.png\", plot = raw_abundance_plots,width = 45, height = 25, dpi = 300)\n",
    "ggsave(filename = \"../../results/Phyloseq/Figures/relative_abundance_plots.png\", plot = relative_abundance_plots,width = 45, height = 25, dpi = 300)\n",
    "ggsave(filename = \"../../results/Phyloseq/Figures/raw_species_abundance_plots.png\", plot = raw_species_abundance_plots,width = 45, height = 25, dpi = 300)\n",
    "ggsave(filename = \"../../results/Phyloseq/Figures/relative_species_abundance_plots.png\", plot = relative_species_abundance_plots,width = 45, height = 25, dpi = 300)\n",
    "ggsave(filename = \"../../results/Phyloseq/Figures/species_counts_plots.png\", plot = species_counts_plots,width = 45, height = 25, dpi = 300)\n",
    "ggsave(filename = \"../../results/Phyloseq/Figures/species_overlap_plots.png\", plot = species_overlap_plots,width = 45, height = 25, dpi = 300)\n",
    "ggsave(filename = \"../../results/Phyloseq/Figures/relative_genus_abundance_plots.png\", plot = relative_genus_abundance_plots,width = 45, height = 25, dpi = 300)\n",
    "ggsave(filename = \"../../results/Phyloseq/Figures/rarecurve_plots.png\", plot = rarecurve_plots,width = 45, height = 25, dpi = 300)"
   ]
  },
  {
   "cell_type": "code",
   "execution_count": 43,
   "metadata": {
    "vscode": {
     "languageId": "r"
    }
   },
   "outputs": [],
   "source": [
    "# saving pcoa plots as pdf\n",
    "ggsave(filename = \"../../results/Phyloseq/Figures/raw_abundance_plots.pdf\", plot = raw_abundance_plots, width = 45, height = 25)\n",
    "ggsave(filename = \"../../results/Phyloseq/Figures/relative_abundance_plots.pdf\", plot = relative_abundance_plots, width = 45, height = 25)\n",
    "ggsave(filename = \"../../results/Phyloseq/Figures/raw_species_abundance_plots.pdf\", plot = raw_species_abundance_plots, width = 45, height = 25)\n",
    "ggsave(filename = \"../../results/Phyloseq/Figures/relative_species_abundance_plots.pdf\", plot = relative_species_abundance_plots, width = 45, height = 25)\n",
    "ggsave(filename = \"../../results/Phyloseq/Figures/species_counts_plots.pdf\", plot = species_counts_plots, width = 45, height = 25)\n",
    "ggsave(filename = \"../../results/Phyloseq/Figures/species_overlap_plots.pdf\", plot = species_overlap_plots,width = 45, height = 25)\n",
    "ggsave(filename = \"../../results/Phyloseq/Figures/relative_genus_abundance_plots.pdf\", plot = relative_genus_abundance_plots,width = 45, height = 25)\n",
    "ggsave(filename = \"../../results/Phyloseq/Figures/rarecurve_plots.pdf\", plot = rarecurve_plots,width = 45, height = 25)"
   ]
  },
  {
   "cell_type": "code",
   "execution_count": 44,
   "metadata": {
    "vscode": {
     "languageId": "r"
    }
   },
   "outputs": [],
   "source": [
    "saveRDS(bowtie_metaphlan_phyloseq, file = \"../../results/Phyloseq/bowtie_metaphlan_phyloseq.rds\")\n",
    "saveRDS(bowtie_kraken_phyloseq, file = \"../../results/Phyloseq/bowtie_kraken_phyloseq.rds\")\n",
    "saveRDS(bowtie_bracken_phyloseq, file = \"../../results/Phyloseq/bowtie_bracken_phyloseq.rds\")\n",
    "\n",
    "saveRDS(bbmap_metaphlan_phyloseq, file = \"../../results/Phyloseq/bbmap_metaphlan_phyloseq.rds\")\n",
    "saveRDS(bbmap_kraken_phyloseq, file = \"../../results/Phyloseq/bbmap_kraken_phyloseq.rds\")\n",
    "saveRDS(bbmap_bracken_phyloseq, file = \"../../results/Phyloseq/bbmap_bracken_phyloseq.rds\")"
   ]
  },
  {
   "cell_type": "code",
   "execution_count": null,
   "metadata": {
    "vscode": {
     "languageId": "r"
    }
   },
   "outputs": [],
   "source": []
  }
 ],
 "metadata": {
  "kernelspec": {
   "display_name": "R",
   "language": "R",
   "name": "ir"
  },
  "language_info": {
   "codemirror_mode": "r",
   "file_extension": ".r",
   "mimetype": "text/x-r-source",
   "name": "R",
   "pygments_lexer": "r",
   "version": "4.3.3"
  }
 },
 "nbformat": 4,
 "nbformat_minor": 2
}
